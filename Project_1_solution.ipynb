{
  "nbformat": 4,
  "nbformat_minor": 0,
  "metadata": {
    "coursera": {
      "course_slug": "python-data-analysis",
      "graded_item_id": "Il9Fx",
      "launcher_item_id": "TeDW0",
      "part_id": "WGlun"
    },
    "kernelspec": {
      "display_name": "Python 3",
      "language": "python",
      "name": "python3"
    },
    "language_info": {
      "codemirror_mode": {
        "name": "ipython",
        "version": 3
      },
      "file_extension": ".py",
      "mimetype": "text/x-python",
      "name": "python",
      "nbconvert_exporter": "python",
      "pygments_lexer": "ipython3",
      "version": "3.5.2"
    },
    "colab": {
      "name": "Project_1_solution.ipynb",
      "provenance": [],
      "toc_visible": true,
      "include_colab_link": true
    }
  },
  "cells": [
    {
      "cell_type": "markdown",
      "metadata": {
        "id": "view-in-github",
        "colab_type": "text"
      },
      "source": [
        "<a href=\"https://colab.research.google.com/github/kassymkhan0101/project_1/blob/master/Project_1_solution.ipynb\" target=\"_parent\"><img src=\"https://colab.research.google.com/assets/colab-badge.svg\" alt=\"Open In Colab\"/></a>"
      ]
    },
    {
      "cell_type": "code",
      "metadata": {
        "id": "Tn_lWQvEzL1x",
        "colab_type": "code",
        "colab": {}
      },
      "source": [
        "import pandas as pd\n",
        "import numpy as np\n",
        "from scipy.stats import ttest_ind"
      ],
      "execution_count": 0,
      "outputs": []
    },
    {
      "cell_type": "markdown",
      "metadata": {
        "id": "HVo0eDDKzL1z",
        "colab_type": "text"
      },
      "source": [
        "# Project 1 - Hypothesis Testing\n",
        "This assignment requires more individual learning than previous assignments - you are encouraged to check out the [pandas documentation](http://pandas.pydata.org/pandas-docs/stable/) to find functions or methods you might not have used yet, or ask questions on [Stack Overflow](http://stackoverflow.com/) and tag them as pandas and python related.\n",
        "\n",
        "Definitions:\n",
        "* A _quarter_ is a specific three month period, Q1 is January through March, Q2 is April through June, Q3 is July through September, Q4 is October through December.\n",
        "* A _recession_ is defined as starting with two consecutive quarters of GDP decline, and ending with two consecutive quarters of GDP growth.\n",
        "* A _recession bottom_ is the quarter within a recession which had the lowest GDP.\n",
        "* A _university town_ is a city which has a high percentage of university students compared to the total population of the city.\n",
        "\n",
        "**Hypothesis**: University towns have their mean housing prices less effected by recessions. Run a t-test to compare the ratio of the mean price of houses in university towns the quarter before the recession starts compared to the recession bottom. (`price_ratio=quarter_before_recession/recession_bottom`)\n",
        "\n",
        "The following data files are available for this assignment:\n",
        "* From the [Zillow research data site](http://www.zillow.com/research/data/) there is housing data for the United States. In particular the datafile for [all homes at a city level](http://files.zillowstatic.com/research/public/City/City_Zhvi_AllHomes.csv), ```City_Zhvi_AllHomes.csv```, has median home sale prices at a fine grained level.\n",
        "* From the Wikipedia page on college towns is a list of [university towns in the United States](https://en.wikipedia.org/wiki/List_of_college_towns#College_towns_in_the_United_States) which has been copy and pasted into the file ```university_towns.txt```.\n",
        "* From Bureau of Economic Analysis, US Department of Commerce, the [GDP over time](http://www.bea.gov/national/index.htm#gdp) of the United States in current dollars (use the chained value in 2009 dollars), in quarterly intervals, in the file ```gdplev.xls```. For this assignment, only look at GDP data from the first quarter of 2000 onward.\n",
        "\n",
        "Each function in this assignment below is worth 10%, with the exception of ```run_ttest()```, which is worth 50%."
      ]
    },
    {
      "cell_type": "code",
      "metadata": {
        "id": "X0PtbzCXymeh",
        "colab_type": "code",
        "colab": {}
      },
      "source": [
        "\n",
        "states = {'OH': 'Ohio', 'KY': 'Kentucky', 'AS': 'American Samoa', 'NV': 'Nevada', 'WY': 'Wyoming', 'NA': 'National', 'AL': 'Alabama', 'MD': 'Maryland', 'AK': 'Alaska', 'UT': 'Utah', 'OR': 'Oregon', 'MT': 'Montana', 'IL': 'Illinois', 'TN': 'Tennessee', 'DC': 'District of Columbia', 'VT': 'Vermont', 'ID': 'Idaho', 'AR': 'Arkansas', 'ME': 'Maine', 'WA': 'Washington', 'HI': 'Hawaii', 'WI': 'Wisconsin', 'MI': 'Michigan', 'IN': 'Indiana', 'NJ': 'New Jersey', 'AZ': 'Arizona', 'GU': 'Guam', 'MS': 'Mississippi', 'PR': 'Puerto Rico', 'NC': 'North Carolina', 'TX': 'Texas', 'SD': 'South Dakota', 'MP': 'Northern Mariana Islands', 'IA': 'Iowa', 'MO': 'Missouri', 'CT': 'Connecticut', 'WV': 'West Virginia', 'SC': 'South Carolina', 'LA': 'Louisiana', 'KS': 'Kansas', 'NY': 'New York', 'NE': 'Nebraska', 'OK': 'Oklahoma', 'FL': 'Florida', 'CA': 'California', 'CO': 'Colorado', 'PA': 'Pennsylvania', 'DE': 'Delaware', 'NM': 'New Mexico', 'RI': 'Rhode Island', 'MN': 'Minnesota', 'VI': 'Virgin Islands', 'NH': 'New Hampshire', 'MA': 'Massachusetts', 'GA': 'Georgia', 'ND': 'North Dakota', 'VA': 'Virginia'}\n"
      ],
      "execution_count": 0,
      "outputs": []
    },
    {
      "cell_type": "code",
      "metadata": {
        "id": "Zzx88GI_zL11",
        "colab_type": "code",
        "colab": {
          "base_uri": "https://localhost:8080/",
          "height": 402
        },
        "outputId": "d19d80d5-d612-4054-f7ea-b9e403525418"
      },
      "source": [
        "def get_list_of_university_towns():\n",
        "  \n",
        "    '''Returns a DataFrame of towns and the states they are in from the \n",
        "    university_towns.txt list. The format of the DataFrame should be:\n",
        "    DataFrame( [ [\"Michigan\", \"Ann Arbor\"], [\"Michigan\", \"Yipsilanti\"] ], \n",
        "    columns=[\"State\", \"RegionName\"]  )\n",
        "    \n",
        "    The following cleaning needs to be done:\n",
        "\n",
        "    1. For \"State\", removing characters from \"[\" to the end.\n",
        "    2. For \"RegionName\", when applicable, removing every character from \" (\" to the end.\n",
        "    3. Depending on how you read the data, you may need to remove newline character '\\n'. '''\n",
        "    utowns = []\n",
        "\n",
        "    with open('university_towns.txt') as txt:\n",
        "        for line in txt:\n",
        "            if 'edit' in line:\n",
        "                town = line.split('[')[0].strip()\n",
        "            else:\n",
        "                utowns.append((town, line.split('(')[0].strip()))\n",
        "    df_utowns = pd.DataFrame.from_records(utowns)\n",
        "    df_utowns.columns = ['State', 'RegionName']\n",
        "    return df_utowns\n",
        "get_list_of_university_towns()"
      ],
      "execution_count": 5,
      "outputs": [
        {
          "output_type": "execute_result",
          "data": {
            "text/html": [
              "<div>\n",
              "<style scoped>\n",
              "    .dataframe tbody tr th:only-of-type {\n",
              "        vertical-align: middle;\n",
              "    }\n",
              "\n",
              "    .dataframe tbody tr th {\n",
              "        vertical-align: top;\n",
              "    }\n",
              "\n",
              "    .dataframe thead th {\n",
              "        text-align: right;\n",
              "    }\n",
              "</style>\n",
              "<table border=\"1\" class=\"dataframe\">\n",
              "  <thead>\n",
              "    <tr style=\"text-align: right;\">\n",
              "      <th></th>\n",
              "      <th>State</th>\n",
              "      <th>RegionName</th>\n",
              "    </tr>\n",
              "  </thead>\n",
              "  <tbody>\n",
              "    <tr>\n",
              "      <th>0</th>\n",
              "      <td>Alabama</td>\n",
              "      <td>Auburn</td>\n",
              "    </tr>\n",
              "    <tr>\n",
              "      <th>1</th>\n",
              "      <td>Alabama</td>\n",
              "      <td>Florence</td>\n",
              "    </tr>\n",
              "    <tr>\n",
              "      <th>2</th>\n",
              "      <td>Alabama</td>\n",
              "      <td>Jacksonville</td>\n",
              "    </tr>\n",
              "    <tr>\n",
              "      <th>3</th>\n",
              "      <td>Alabama</td>\n",
              "      <td>Livingston</td>\n",
              "    </tr>\n",
              "    <tr>\n",
              "      <th>4</th>\n",
              "      <td>Alabama</td>\n",
              "      <td>Montevallo</td>\n",
              "    </tr>\n",
              "    <tr>\n",
              "      <th>...</th>\n",
              "      <td>...</td>\n",
              "      <td>...</td>\n",
              "    </tr>\n",
              "    <tr>\n",
              "      <th>512</th>\n",
              "      <td>Wisconsin</td>\n",
              "      <td>River Falls</td>\n",
              "    </tr>\n",
              "    <tr>\n",
              "      <th>513</th>\n",
              "      <td>Wisconsin</td>\n",
              "      <td>Stevens Point</td>\n",
              "    </tr>\n",
              "    <tr>\n",
              "      <th>514</th>\n",
              "      <td>Wisconsin</td>\n",
              "      <td>Waukesha</td>\n",
              "    </tr>\n",
              "    <tr>\n",
              "      <th>515</th>\n",
              "      <td>Wisconsin</td>\n",
              "      <td>Whitewater</td>\n",
              "    </tr>\n",
              "    <tr>\n",
              "      <th>516</th>\n",
              "      <td>Wyoming</td>\n",
              "      <td>Laramie</td>\n",
              "    </tr>\n",
              "  </tbody>\n",
              "</table>\n",
              "<p>517 rows × 2 columns</p>\n",
              "</div>"
            ],
            "text/plain": [
              "         State     RegionName\n",
              "0      Alabama         Auburn\n",
              "1      Alabama       Florence\n",
              "2      Alabama   Jacksonville\n",
              "3      Alabama     Livingston\n",
              "4      Alabama     Montevallo\n",
              "..         ...            ...\n",
              "512  Wisconsin    River Falls\n",
              "513  Wisconsin  Stevens Point\n",
              "514  Wisconsin       Waukesha\n",
              "515  Wisconsin     Whitewater\n",
              "516    Wyoming        Laramie\n",
              "\n",
              "[517 rows x 2 columns]"
            ]
          },
          "metadata": {
            "tags": []
          },
          "execution_count": 5
        }
      ]
    },
    {
      "cell_type": "code",
      "metadata": {
        "id": "-ip9KDefzL13",
        "colab_type": "code",
        "outputId": "a27d6ca2-74fc-446c-d348-2a20af20937c",
        "colab": {
          "base_uri": "https://localhost:8080/",
          "height": 34
        }
      },
      "source": [
        "def get_recession_start():\n",
        "    gd = pd.ExcelFile('gdplev.xls')\n",
        "    gd = gd.parse(\"Sheet1\", skiprows=219)\n",
        "    gd = gd[['1999q4', 9926.1]]\n",
        "    gd.columns = ['quarter','gdp']\n",
        "    k = len(gd)\n",
        "    for i in range(0, k):\n",
        "        if (gd.iloc[i][1] > gd.iloc[i+1][1]) and (gd.iloc[i+1][1] > gd.iloc[i+2][1]):\n",
        "            return gd.iloc[i][0]\n",
        "get_recession_start()  \n"
      ],
      "execution_count": 6,
      "outputs": [
        {
          "output_type": "execute_result",
          "data": {
            "text/plain": [
              "'2008q3'"
            ]
          },
          "metadata": {
            "tags": []
          },
          "execution_count": 6
        }
      ]
    },
    {
      "cell_type": "code",
      "metadata": {
        "id": "Osq-3x1xzL15",
        "colab_type": "code",
        "outputId": "5ef9154b-66f6-427a-8c1a-4d0358b167bf",
        "colab": {
          "base_uri": "https://localhost:8080/",
          "height": 34
        }
      },
      "source": [
        "def get_recession_end():\n",
        "    \n",
        "    '''Returns the year and quarter of the recession end time as a\n",
        "    string value in a format such as 2005q3'''\n",
        "    gd = pd.ExcelFile('gdplev.xls')\n",
        "    gd = gd.parse(\"Sheet1\", skiprows=219)\n",
        "    gd = gd[['1999q4', 9926.1]]\n",
        "    gd.columns = ['quarter','gdp']\n",
        "    first = get_recession_start()\n",
        "    first_index = gd[gd['quarter'] == first].index.tolist()[0]\n",
        "    gd=gd.iloc[first_index:]\n",
        "    k = len(gd)\n",
        "    for i in range(0, k):\n",
        "        if (gd.iloc[i][1] < gd.iloc[i+1][1]) and (gd.iloc[i+1][1] < gd.iloc[i+2][1]):\n",
        "            return gd.iloc[i+2][0]\n",
        "get_recession_end()          "
      ],
      "execution_count": 7,
      "outputs": [
        {
          "output_type": "execute_result",
          "data": {
            "text/plain": [
              "'2009q4'"
            ]
          },
          "metadata": {
            "tags": []
          },
          "execution_count": 7
        }
      ]
    },
    {
      "cell_type": "code",
      "metadata": {
        "id": "XV7k95cczL17",
        "colab_type": "code",
        "outputId": "d5b8f211-d5ab-47d1-c9bd-6bcb7e57aea0",
        "colab": {
          "base_uri": "https://localhost:8080/",
          "height": 34
        }
      },
      "source": [
        "def get_recession_bottom():\n",
        "    '''Returns the year and quarter of the recession bottom time as a \n",
        "    string value in a format such as 2005q3'''\n",
        "    \n",
        "    gd = pd.ExcelFile('gdplev.xls')\n",
        "    gd = gd.parse(\"Sheet1\", skiprows=219)\n",
        "    gd = gd[['1999q4', 9926.1]]\n",
        "    gd.columns = ['quarter','gdp']\n",
        "    x = gd.index[gd['quarter'] == get_recession_start()][0]\n",
        "    y = gd.index[gd['quarter'] == get_recession_end()][0]\n",
        "    return gd.iloc[gd.iloc[x:y+1, 1 ].idxmin(), 0]\n",
        "\n",
        "get_recession_bottom()\n",
        "\n"
      ],
      "execution_count": 8,
      "outputs": [
        {
          "output_type": "execute_result",
          "data": {
            "text/plain": [
              "'2009q2'"
            ]
          },
          "metadata": {
            "tags": []
          },
          "execution_count": 8
        }
      ]
    },
    {
      "cell_type": "code",
      "metadata": {
        "id": "VutzloxRzL19",
        "colab_type": "code",
        "outputId": "3a869f80-3bca-40c9-9e83-53e90eb105a5",
        "colab": {
          "base_uri": "https://localhost:8080/",
          "height": 34
        }
      },
      "source": [
        "def convert_housing_data_to_quarters():\n",
        "    '''Converts the housing data to quarters and returns it as mean \n",
        "    values in a dataframe. This dataframe should be a dataframe with\n",
        "    columns for 2000q1 through 2016q3, and should have a multi-index\n",
        "    in the shape of [\"State\",\"RegionName\"].\n",
        "    \n",
        "    Note: Quarters are defined in the assignment description, they are\n",
        "    not arbitrary three month periods.\n",
        "    \n",
        "    The resulting dataframe should have 67 columns, and 10,730 rows.\n",
        "    '''\n",
        "    \n",
        "    conv = pd.read_csv('City_Zhvi_AllHomes.csv')\n",
        "    conv['State'] = conv['State'].map(states)\n",
        "    conv.set_index(['State', 'RegionName'], inplace=True)\n",
        "    conv = conv.loc[:,\"2000-01\":\"2016-08\"]\n",
        "    new_columns = [str(u)+v for u in range(2000, 2017) for v in ['q1', 'q2', 'q3', 'q4']]\n",
        "    new_columns = new_columns[:-1] \n",
        "    t = 0\n",
        "    for c in new_columns:\n",
        "        conv[c] = conv.iloc[:, t:t+3].mean(axis=1)\n",
        "        t = t+3\n",
        "    conv = conv.loc[:, '2000q1':]\n",
        "    return conv\n",
        "convert_housing_data_to_quarters().shape"
      ],
      "execution_count": 9,
      "outputs": [
        {
          "output_type": "execute_result",
          "data": {
            "text/plain": [
              "(2500, 67)"
            ]
          },
          "metadata": {
            "tags": []
          },
          "execution_count": 9
        }
      ]
    },
    {
      "cell_type": "code",
      "metadata": {
        "id": "DAvn9tKmzL1_",
        "colab_type": "code",
        "outputId": "4c4ef793-ec66-4e8d-9fc2-4d2bdadfc08a",
        "colab": {
          "base_uri": "https://localhost:8080/",
          "height": 34
        }
      },
      "source": [
        "def run_ttest():\n",
        "    '''First creates new data showing the decline or growth of housing prices\n",
        "    between the recession start and the recession bottom. Then runs a ttest\n",
        "    comparing the university town values to the non-university towns values, \n",
        "    return whether the null hypothesis (that the two groups are the same)\n",
        "    is true or not as well as the p-value of the confidence. \n",
        "    \n",
        "    Return the tuple (different, p, better) where different=True if the t-test is\n",
        "    True at a p<0.01 (we reject the null hypothesis), or different=False if \n",
        "    otherwise (we cannot reject the null hypothesis). The variable p should\n",
        "    be equal to the exact p value returned from scipy.stats.ttest_ind(). The\n",
        "    value for better should be either \"university town\" or \"non-university town\"\n",
        "    depending on which has a lower mean price ratio (which is equivilent to a\n",
        "    reduced market loss).'''\n",
        "    \n",
        "   \n",
        "    first = get_recession_start()\n",
        "    last = get_recession_bottom()\n",
        "    conv = convert_housing_data_to_quarters()\n",
        "    conv = conv.loc[:, first: last]\n",
        "    conv.reset_index(inplace=True)\n",
        "    conv['price_ratio'] = (conv[first] - conv[last]) / conv[first]\n",
        "    towns = get_list_of_university_towns()  \n",
        "    towns_l = towns['RegionName'].tolist()\n",
        "    conv['isUniTown'] = conv.RegionName.apply(lambda u: u in towns_l)\n",
        "    uni_data =conv[conv.isUniTown].copy().dropna()\n",
        "    not_uni_data = conv[~conv.isUniTown].copy().dropna()\n",
        "    p_val = ttest_ind(uni_data['price_ratio'], not_uni_data['price_ratio'])[1]\n",
        "    change = p_val < 0.01   \n",
        "    verdict = 'university town' if uni_data['price_ratio'].mean() < not_uni_data['price_ratio'].mean() else 'non-university town'\n",
        "    return (change, p_val, verdict)\n",
        "run_ttest()"
      ],
      "execution_count": 11,
      "outputs": [
        {
          "output_type": "execute_result",
          "data": {
            "text/plain": [
              "(True, 2.4264222248661247e-14, 'university town')"
            ]
          },
          "metadata": {
            "tags": []
          },
          "execution_count": 11
        }
      ]
    }
  ]
}